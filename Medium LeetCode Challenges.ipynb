{
 "cells": [
  {
   "cell_type": "markdown",
   "metadata": {},
   "source": [
    "#### Answers to Medium LeetCode challenges.\n",
    "All answers written by me unless otherwise stated."
   ]
  },
  {
   "cell_type": "markdown",
   "metadata": {},
   "source": [
    "#### Answer to 2. Add Two Numbers: https://leetcode.com/problems/add-two-numbers/description/\n",
    "Takes O(2n) time and O(n/2) space."
   ]
  },
  {
   "cell_type": "code",
   "execution_count": null,
   "metadata": {
    "collapsed": true
   },
   "outputs": [],
   "source": [
    "# Definition for singly-linked list.\n",
    "# class ListNode(object):\n",
    "#     def __init__(self, x):\n",
    "#         self.val = x\n",
    "#         self.next = None\n",
    "\n",
    "def getNumber(l):\n",
    "        num = 0\n",
    "        count = 0\n",
    "        while l:\n",
    "            print l.val\n",
    "            num += l.val * (10**count)\n",
    "            count += 1\n",
    "            l = l.next\n",
    "        return num\n",
    "\n",
    "def insert(head, number):\n",
    "    if head.val == None:\n",
    "        head = ListNode(number)\n",
    "        return head\n",
    "    else:\n",
    "        current = head\n",
    "        head = ListNode(number)\n",
    "        head.next = current\n",
    "        return head\n",
    "    \n",
    "class Solution(object):      \n",
    "    def addTwoNumbers(self, l1, l2):\n",
    "        \"\"\"\n",
    "        :type l1: ListNode\n",
    "        :type l2: ListNode\n",
    "        :rtype: ListNode\n",
    "        \"\"\"\n",
    "        number = str(getNumber(l1) + getNumber(l2))\n",
    "        listNumber = ListNode(None)\n",
    "        for i in number:\n",
    "            listNumber = insert(listNumber, int(i))\n",
    "        return listNumber"
   ]
  },
  {
   "cell_type": "markdown",
   "metadata": {},
   "source": [
    "#### Answer to 3. Longest Substring Without Repeating Characters: https://leetcode.com/problems/longest-substring-without-repeating-characters/description/\n",
    "Takes O(n^2) time and O(n) space."
   ]
  },
  {
   "cell_type": "code",
   "execution_count": null,
   "metadata": {
    "collapsed": true
   },
   "outputs": [],
   "source": [
    "class Solution(object):\n",
    "    def lengthOfLongestSubstring(self, s):\n",
    "        \"\"\"\n",
    "        :type s: str\n",
    "        :rtype: int\n",
    "        \"\"\"\n",
    "        longestLength = 0\n",
    "        for i in range(len(s)):\n",
    "            word = {}\n",
    "            word[s[i]] = 0\n",
    "            for j in s[i+1:]:\n",
    "                if j not in word:\n",
    "                    word[j] = 0\n",
    "                else:\n",
    "                    longestLength = max(longestLength, len(word))\n",
    "                    break\n",
    "            longestLength = max(longestLength, len(word))\n",
    "        return longestLength"
   ]
  },
  {
   "cell_type": "markdown",
   "metadata": {},
   "source": [
    "Optimized O(n) time solution from discussion user 'motal' https://leetcode.com/motal/"
   ]
  },
  {
   "cell_type": "code",
   "execution_count": null,
   "metadata": {
    "collapsed": true
   },
   "outputs": [],
   "source": [
    "class Solution(object):\n",
    "    def lengthOfLongestSubstring(self, s):\n",
    "        \"\"\"\n",
    "        :type s: str\n",
    "        :rtype: int\n",
    "        \"\"\"\n",
    "        used = {}\n",
    "        max_length = start = 0\n",
    "        for i, c in enumerate(s):\n",
    "            if c in used and start <= used[c]:\n",
    "                start = used[c] + 1\n",
    "            else:\n",
    "                max_length = max(max_length, i - start + 1)\n",
    "            \n",
    "            used[c] = i\n",
    "\n",
    "    \n",
    "        return max_length"
   ]
  },
  {
   "cell_type": "markdown",
   "metadata": {},
   "source": [
    "#### Answer to 6. ZigZag Conversion: https://leetcode.com/problems/zigzag-conversion/description/"
   ]
  },
  {
   "cell_type": "code",
   "execution_count": null,
   "metadata": {
    "collapsed": true
   },
   "outputs": [],
   "source": [
    "class Solution(object):\n",
    "    def convert(self, s, numRows):\n",
    "        \"\"\"\n",
    "        :type s: str\n",
    "        :type numRows: int\n",
    "        :rtype: str\n",
    "        \"\"\"\n",
    "        # O(n) space and O(n) time requirements\n",
    "        \n",
    "        # Base case\n",
    "        if numRows == 1:\n",
    "            return s\n",
    "        letterArray = []\n",
    "        counter = 0\n",
    "        zigzag = 0\n",
    "        \n",
    "        for letter in s:            \n",
    "            try: \n",
    "                letterArray[counter] += letter\n",
    "            except IndexError:\n",
    "                letterArray.append(letter)   \n",
    "            if zigzag:\n",
    "                counter += -1\n",
    "            else:\n",
    "                counter += 1\n",
    "            if counter == numRows:\n",
    "                zigzag = 1\n",
    "                counter = numRows-2\n",
    "            if counter == 0:\n",
    "                zigzag = 0            \n",
    "        return ''.join(letterArray)"
   ]
  }
 ],
 "metadata": {
  "kernelspec": {
   "display_name": "Python 2",
   "language": "python",
   "name": "python2"
  },
  "language_info": {
   "codemirror_mode": {
    "name": "ipython",
    "version": 2
   },
   "file_extension": ".py",
   "mimetype": "text/x-python",
   "name": "python",
   "nbconvert_exporter": "python",
   "pygments_lexer": "ipython2",
   "version": "2.7.13"
  }
 },
 "nbformat": 4,
 "nbformat_minor": 2
}
