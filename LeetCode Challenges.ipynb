{
 "cells": [
  {
   "cell_type": "markdown",
   "metadata": {},
   "source": [
    "Answers to LeetCode challenges. <br>\n",
    "All answers written by me unless otherwise stated."
   ]
  },
  {
   "cell_type": "markdown",
   "metadata": {},
   "source": [
    "Answer to Two Sum: https://leetcode.com/problems/two-sum/description/\n",
    "<br>\n",
    "My unoptimized code.  Completes in O(n^2) time, requires O(1) space."
   ]
  },
  {
   "cell_type": "code",
   "execution_count": 1,
   "metadata": {
    "collapsed": true
   },
   "outputs": [],
   "source": [
    "class Solution(object):\n",
    "    def twoSum(self, nums, target):\n",
    "        \"\"\"\n",
    "        :type nums: List[int]\n",
    "        :type target: int\n",
    "        :rtype: List[int]\n",
    "        \"\"\"\n",
    "        for i in range(len(nums)):\n",
    "            for j in range(i+1, len(nums)):\n",
    "                if nums[i] + nums[j] == target:\n",
    "                    return [i, j]"
   ]
  },
  {
   "cell_type": "markdown",
   "metadata": {},
   "source": [
    "Optimized Code with help from discussion user 'joeg': https://leetcode.com/joeg/\n",
    "<br>\n",
    "Uses hash table to complete algorithm in O(n) time.  Requires O(n) space."
   ]
  },
  {
   "cell_type": "code",
   "execution_count": null,
   "metadata": {
    "collapsed": true
   },
   "outputs": [],
   "source": [
    "class Solution(object):\n",
    "    def twoSum(self, nums, target):\n",
    "        \"\"\"\n",
    "        :type nums: List[int]\n",
    "        :type target: int\n",
    "        :rtype: List[int]\n",
    "        \"\"\"\n",
    "        d = {}\n",
    "        for i, n in enumerate(nums):\n",
    "            m = target - n\n",
    "            if m in d:\n",
    "                return [d[m], i]\n",
    "            else:\n",
    "                d[n] = i"
   ]
  },
  {
   "cell_type": "markdown",
   "metadata": {},
   "source": [
    "Answer to Add Two Numbers: https://leetcode.com/problems/add-two-numbers/description/ <br>\n",
    "Takes O(2n) time and O(n/2) space."
   ]
  },
  {
   "cell_type": "code",
   "execution_count": null,
   "metadata": {
    "collapsed": true
   },
   "outputs": [],
   "source": [
    "# Definition for singly-linked list.\n",
    "# class ListNode(object):\n",
    "#     def __init__(self, x):\n",
    "#         self.val = x\n",
    "#         self.next = None\n",
    "\n",
    "def getNumber(l):\n",
    "        num = 0\n",
    "        count = 0\n",
    "        while l:\n",
    "            print l.val\n",
    "            num += l.val * (10**count)\n",
    "            count += 1\n",
    "            l = l.next\n",
    "        return num\n",
    "\n",
    "def insert(head, number):\n",
    "    if head.val == None:\n",
    "        head = ListNode(number)\n",
    "        return head\n",
    "    else:\n",
    "        current = head\n",
    "        head = ListNode(number)\n",
    "        head.next = current\n",
    "        return head\n",
    "    \n",
    "class Solution(object):      \n",
    "    def addTwoNumbers(self, l1, l2):\n",
    "        \"\"\"\n",
    "        :type l1: ListNode\n",
    "        :type l2: ListNode\n",
    "        :rtype: ListNode\n",
    "        \"\"\"\n",
    "        number = str(getNumber(l1) + getNumber(l2))\n",
    "        listNumber = ListNode(None)\n",
    "        for i in number:\n",
    "            listNumber = insert(listNumber, int(i))\n",
    "        return listNumber"
   ]
  },
  {
   "cell_type": "markdown",
   "metadata": {},
   "source": [
    "Answer to Longest Substring Without Repeating Characters: https://leetcode.com/problems/longest-substring-without-repeating-characters/description/\n",
    "<br>\n",
    "Takes O(n^2) time and O(n) space."
   ]
  },
  {
   "cell_type": "code",
   "execution_count": null,
   "metadata": {
    "collapsed": true
   },
   "outputs": [],
   "source": [
    "class Solution(object):\n",
    "    def lengthOfLongestSubstring(self, s):\n",
    "        \"\"\"\n",
    "        :type s: str\n",
    "        :rtype: int\n",
    "        \"\"\"\n",
    "        longestLength = 0\n",
    "        for i in range(len(s)):\n",
    "            word = {}\n",
    "            word[s[i]] = 0\n",
    "            for j in s[i+1:]:\n",
    "                if j not in word:\n",
    "                    word[j] = 0\n",
    "                else:\n",
    "                    longestLength = max(longestLength, len(word))\n",
    "                    break\n",
    "            longestLength = max(longestLength, len(word))\n",
    "        return longestLength"
   ]
  },
  {
   "cell_type": "markdown",
   "metadata": {},
   "source": [
    "Optimized O(n) time solution from discussion user 'motal' https://leetcode.com/motal/"
   ]
  },
  {
   "cell_type": "code",
   "execution_count": null,
   "metadata": {
    "collapsed": true
   },
   "outputs": [],
   "source": [
    "class Solution(object):\n",
    "    def lengthOfLongestSubstring(self, s):\n",
    "        \"\"\"\n",
    "        :type s: str\n",
    "        :rtype: int\n",
    "        \"\"\"\n",
    "        used = {}\n",
    "        max_length = start = 0\n",
    "        for i, c in enumerate(s):\n",
    "            if c in used and start <= used[c]:\n",
    "                start = used[c] + 1\n",
    "            else:\n",
    "                max_length = max(max_length, i - start + 1)\n",
    "            \n",
    "            used[c] = i\n",
    "\n",
    "    \n",
    "        return max_length"
   ]
  },
  {
   "cell_type": "markdown",
   "metadata": {},
   "source": [
    "Answer to ZigZag Conversion: https://leetcode.com/problems/zigzag-conversion/description/"
   ]
  },
  {
   "cell_type": "code",
   "execution_count": null,
   "metadata": {
    "collapsed": true
   },
   "outputs": [],
   "source": [
    "class Solution(object):\n",
    "    def convert(self, s, numRows):\n",
    "        \"\"\"\n",
    "        :type s: str\n",
    "        :type numRows: int\n",
    "        :rtype: str\n",
    "        \"\"\"\n",
    "        # O(n) space and O(n) time requirements\n",
    "        \n",
    "        # Base case\n",
    "        if numRows == 1:\n",
    "            return s\n",
    "        letterArray = []\n",
    "        counter = 0\n",
    "        zigzag = 0\n",
    "        \n",
    "        for letter in s:            \n",
    "            try: \n",
    "                letterArray[counter] += letter\n",
    "            except IndexError:\n",
    "                letterArray.append(letter)   \n",
    "            if zigzag:\n",
    "                counter += -1\n",
    "            else:\n",
    "                counter += 1\n",
    "            if counter == numRows:\n",
    "                zigzag = 1\n",
    "                counter = numRows-2\n",
    "            if counter == 0:\n",
    "                zigzag = 0            \n",
    "        return ''.join(letterArray)"
   ]
  },
  {
   "cell_type": "markdown",
   "metadata": {},
   "source": [
    "Answer to Reverse Integer: https://leetcode.com/problems/reverse-integer/description/"
   ]
  },
  {
   "cell_type": "code",
   "execution_count": 8,
   "metadata": {
    "collapsed": true
   },
   "outputs": [],
   "source": [
    "class Solution(object):\n",
    "    def reverse(self, x):\n",
    "        \"\"\"\n",
    "        :type x: int\n",
    "        :rtype: int\n",
    "        \"\"\"\n",
    "        # Takes O(2n) time and O(n) space\n",
    "        if x == 0:\n",
    "            return 0\n",
    "        isNegative = 1 \n",
    "        if x < 0:\n",
    "            isNegative = -1\n",
    "            x = x * -1\n",
    "        intArray = []\n",
    "        while x:\n",
    "            intArray.append(x%10)\n",
    "            x = x/10\n",
    "        \n",
    "        output = 0\n",
    "        while intArray:\n",
    "            output += 10**(len(intArray)-1) * intArray.pop(0)\n",
    "        if output > 2**32-1:\n",
    "            return 0\n",
    "        output = output * isNegative\n",
    "        return output"
   ]
  },
  {
   "cell_type": "markdown",
   "metadata": {},
   "source": [
    "Another answer which should run in O(n) time and O(1) space.  Creates the ouput value without using an extra array.  Help from user 'ardyadipta' https://leetcode.com/ardyadipta/"
   ]
  },
  {
   "cell_type": "code",
   "execution_count": null,
   "metadata": {
    "collapsed": true
   },
   "outputs": [],
   "source": [
    "class Solution(object):\n",
    "    def reverse(self, x):\n",
    "        \"\"\"\n",
    "        :type x: int\n",
    "        :rtype: int\n",
    "        \"\"\"\n",
    "        # Takes O(n) time and O(1) space\n",
    "        # Base case\n",
    "        if x == 0:\n",
    "            return 0\n",
    "        # Check for negative integer\n",
    "        isNegative = 1 \n",
    "        if x < 0:\n",
    "            isNegative = -1\n",
    "            x = x * -1\n",
    "        # Create output value\n",
    "        output = 0\n",
    "        while x:\n",
    "            output = output*10 + x%10\n",
    "            x = x/10\n",
    "        output = output * isNegative                    \n",
    "        # Check for overflow \n",
    "        if output > 2**31-1:\n",
    "            return 0\n",
    "        elif output < 2**31 * -1:\n",
    "            return 0\n",
    "        else:\n",
    "            return output"
   ]
  },
  {
   "cell_type": "markdown",
   "metadata": {},
   "source": [
    "Answer to Palindrome Number: https://leetcode.com/problems/palindrome-number/description/\n",
    "<br>\n",
    "Uses reverse an integer solution from before.  Can be made to run in O(log(10)n) time if only reversing half of the integer."
   ]
  },
  {
   "cell_type": "code",
   "execution_count": null,
   "metadata": {
    "collapsed": true
   },
   "outputs": [],
   "source": [
    "class Solution(object):\n",
    "    def reverse(self, x):\n",
    "        \"\"\"\n",
    "        :type x: int\n",
    "        :rtype: int\n",
    "        \"\"\"\n",
    "        # Takes O(n) time and O(1) space\n",
    "        if x == 0:\n",
    "            return 0\n",
    "        isNegative = 1 \n",
    "        if x < 0:\n",
    "            return 0\n",
    "        output = 0\n",
    "        while x:\n",
    "            output = output*10 + x%10\n",
    "            x = x/10\n",
    "        return output\n",
    "    \n",
    "    def isPalindrome(self, x):\n",
    "        \"\"\"\n",
    "        :type x: int\n",
    "        :rtype: bool\n",
    "        \"\"\"\n",
    "        if self.reverse(x) == x:\n",
    "            return True\n",
    "        else:\n",
    "            return False"
   ]
  }
 ],
 "metadata": {
  "kernelspec": {
   "display_name": "Python 2",
   "language": "python",
   "name": "python2"
  },
  "language_info": {
   "codemirror_mode": {
    "name": "ipython",
    "version": 2
   },
   "file_extension": ".py",
   "mimetype": "text/x-python",
   "name": "python",
   "nbconvert_exporter": "python",
   "pygments_lexer": "ipython2",
   "version": "2.7.13"
  }
 },
 "nbformat": 4,
 "nbformat_minor": 2
}
