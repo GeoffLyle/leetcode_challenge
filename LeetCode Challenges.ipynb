{
 "cells": [
  {
   "cell_type": "markdown",
   "metadata": {},
   "source": [
    "Answers to LeetCode challenges. <br>\n",
    "All answers written by me unless otherwise stated."
   ]
  },
  {
   "cell_type": "markdown",
   "metadata": {},
   "source": [
    "Answer to Two Sum: https://leetcode.com/problems/two-sum/description/\n",
    "<br>\n",
    "My unoptimized code.  Completes in O(n^2) time, requires O(1) space."
   ]
  },
  {
   "cell_type": "code",
   "execution_count": 1,
   "metadata": {
    "collapsed": true
   },
   "outputs": [],
   "source": [
    "class Solution(object):\n",
    "    def twoSum(self, nums, target):\n",
    "        \"\"\"\n",
    "        :type nums: List[int]\n",
    "        :type target: int\n",
    "        :rtype: List[int]\n",
    "        \"\"\"\n",
    "        for i in range(len(nums)):\n",
    "            for j in range(i+1, len(nums)):\n",
    "                if nums[i] + nums[j] == target:\n",
    "                    return [i, j]"
   ]
  },
  {
   "cell_type": "markdown",
   "metadata": {},
   "source": [
    "Optimized Code with help from discussion user 'joeg': https://leetcode.com/joeg/\n",
    "<br>\n",
    "Uses hash table to complete algorithm in O(n) time.  Requires O(n) space."
   ]
  },
  {
   "cell_type": "code",
   "execution_count": null,
   "metadata": {
    "collapsed": true
   },
   "outputs": [],
   "source": [
    "class Solution(object):\n",
    "    def twoSum(self, nums, target):\n",
    "        \"\"\"\n",
    "        :type nums: List[int]\n",
    "        :type target: int\n",
    "        :rtype: List[int]\n",
    "        \"\"\"\n",
    "        d = {}\n",
    "        for i, n in enumerate(nums):\n",
    "            m = target - n\n",
    "            if m in d:\n",
    "                return [d[m], i]\n",
    "            else:\n",
    "                d[n] = i"
   ]
  },
  {
   "cell_type": "markdown",
   "metadata": {},
   "source": [
    "Answer to Add Two Numbers: https://leetcode.com/problems/add-two-numbers/description/ <br>\n",
    "Takes O(2n) time and O(n/2) space."
   ]
  },
  {
   "cell_type": "code",
   "execution_count": null,
   "metadata": {
    "collapsed": true
   },
   "outputs": [],
   "source": [
    "# Definition for singly-linked list.\n",
    "# class ListNode(object):\n",
    "#     def __init__(self, x):\n",
    "#         self.val = x\n",
    "#         self.next = None\n",
    "\n",
    "def getNumber(l):\n",
    "        num = 0\n",
    "        count = 0\n",
    "        while l:\n",
    "            print l.val\n",
    "            num += l.val * (10**count)\n",
    "            count += 1\n",
    "            l = l.next\n",
    "        return num\n",
    "\n",
    "def insert(head, number):\n",
    "    if head.val == None:\n",
    "        head = ListNode(number)\n",
    "        return head\n",
    "    else:\n",
    "        current = head\n",
    "        head = ListNode(number)\n",
    "        head.next = current\n",
    "        return head\n",
    "    \n",
    "class Solution(object):      \n",
    "    def addTwoNumbers(self, l1, l2):\n",
    "        \"\"\"\n",
    "        :type l1: ListNode\n",
    "        :type l2: ListNode\n",
    "        :rtype: ListNode\n",
    "        \"\"\"\n",
    "        number = str(getNumber(l1) + getNumber(l2))\n",
    "        listNumber = ListNode(None)\n",
    "        for i in number:\n",
    "            listNumber = insert(listNumber, int(i))\n",
    "        return listNumber"
   ]
  },
  {
   "cell_type": "markdown",
   "metadata": {},
   "source": [
    "Answer to Longest Substring Without Repeating Characters: https://leetcode.com/problems/longest-substring-without-repeating-characters/description/\n",
    "<br>\n",
    "Takes O(n^2) time and O(n) space."
   ]
  },
  {
   "cell_type": "code",
   "execution_count": null,
   "metadata": {
    "collapsed": true
   },
   "outputs": [],
   "source": [
    "class Solution(object):\n",
    "    def lengthOfLongestSubstring(self, s):\n",
    "        \"\"\"\n",
    "        :type s: str\n",
    "        :rtype: int\n",
    "        \"\"\"\n",
    "        longestLength = 0\n",
    "        for i in range(len(s)):\n",
    "            word = {}\n",
    "            word[s[i]] = 0\n",
    "            for j in s[i+1:]:\n",
    "                if j not in word:\n",
    "                    word[j] = 0\n",
    "                else:\n",
    "                    longestLength = max(longestLength, len(word))\n",
    "                    break\n",
    "            longestLength = max(longestLength, len(word))\n",
    "        return longestLength"
   ]
  },
  {
   "cell_type": "markdown",
   "metadata": {},
   "source": [
    "Optimized O(n) time solution from discussion user 'motal' https://leetcode.com/motal/"
   ]
  },
  {
   "cell_type": "code",
   "execution_count": null,
   "metadata": {
    "collapsed": true
   },
   "outputs": [],
   "source": [
    "class Solution(object):\n",
    "    def lengthOfLongestSubstring(self, s):\n",
    "        \"\"\"\n",
    "        :type s: str\n",
    "        :rtype: int\n",
    "        \"\"\"\n",
    "        used = {}\n",
    "        max_length = start = 0\n",
    "        for i, c in enumerate(s):\n",
    "            if c in used and start <= used[c]:\n",
    "                start = used[c] + 1\n",
    "            else:\n",
    "                max_length = max(max_length, i - start + 1)\n",
    "            \n",
    "            used[c] = i\n",
    "\n",
    "    \n",
    "        return max_length"
   ]
  }
 ],
 "metadata": {
  "kernelspec": {
   "display_name": "Python 2",
   "language": "python",
   "name": "python2"
  },
  "language_info": {
   "codemirror_mode": {
    "name": "ipython",
    "version": 2
   },
   "file_extension": ".py",
   "mimetype": "text/x-python",
   "name": "python",
   "nbconvert_exporter": "python",
   "pygments_lexer": "ipython2",
   "version": "2.7.13"
  }
 },
 "nbformat": 4,
 "nbformat_minor": 2
}
