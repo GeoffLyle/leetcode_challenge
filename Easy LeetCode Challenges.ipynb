{
 "cells": [
  {
   "cell_type": "markdown",
   "metadata": {},
   "source": [
    "#### Answers to Easy LeetCode challenges.\n",
    "All answers written by me unless otherwise stated."
   ]
  },
  {
   "cell_type": "markdown",
   "metadata": {},
   "source": [
    "#### Answer to 1. Two Sum: https://leetcode.com/problems/two-sum/description/\n",
    "My unoptimized code.  Completes in O(n^2) time, requires O(1) space."
   ]
  },
  {
   "cell_type": "code",
   "execution_count": 1,
   "metadata": {
    "collapsed": true
   },
   "outputs": [],
   "source": [
    "class Solution(object):\n",
    "    def twoSum(self, nums, target):\n",
    "        \"\"\"\n",
    "        :type nums: List[int]\n",
    "        :type target: int\n",
    "        :rtype: List[int]\n",
    "        \"\"\"\n",
    "        for i in range(len(nums)):\n",
    "            for j in range(i+1, len(nums)):\n",
    "                if nums[i] + nums[j] == target:\n",
    "                    return [i, j]"
   ]
  },
  {
   "cell_type": "markdown",
   "metadata": {},
   "source": [
    "Optimized Code with help from discussion user 'joeg': https://leetcode.com/joeg/\n",
    "<br>\n",
    "Uses hash table to complete algorithm in O(n) time.  Requires O(n) space."
   ]
  },
  {
   "cell_type": "code",
   "execution_count": null,
   "metadata": {
    "collapsed": true
   },
   "outputs": [],
   "source": [
    "class Solution(object):\n",
    "    def twoSum(self, nums, target):\n",
    "        \"\"\"\n",
    "        :type nums: List[int]\n",
    "        :type target: int\n",
    "        :rtype: List[int]\n",
    "        \"\"\"\n",
    "        d = {}\n",
    "        for i, n in enumerate(nums):\n",
    "            m = target - n\n",
    "            if m in d:\n",
    "                return [d[m], i]\n",
    "            else:\n",
    "                d[n] = i"
   ]
  },
  {
   "cell_type": "markdown",
   "metadata": {},
   "source": [
    "#### Answer to 7. Reverse Integer: https://leetcode.com/problems/reverse-integer/description/"
   ]
  },
  {
   "cell_type": "code",
   "execution_count": 8,
   "metadata": {
    "collapsed": true
   },
   "outputs": [],
   "source": [
    "class Solution(object):\n",
    "    def reverse(self, x):\n",
    "        \"\"\"\n",
    "        :type x: int\n",
    "        :rtype: int\n",
    "        \"\"\"\n",
    "        # Takes O(2n) time and O(n) space\n",
    "        if x == 0:\n",
    "            return 0\n",
    "        isNegative = 1 \n",
    "        if x < 0:\n",
    "            isNegative = -1\n",
    "            x = x * -1\n",
    "        intArray = []\n",
    "        while x:\n",
    "            intArray.append(x%10)\n",
    "            x = x/10\n",
    "        \n",
    "        output = 0\n",
    "        while intArray:\n",
    "            output += 10**(len(intArray)-1) * intArray.pop(0)\n",
    "        if output > 2**32-1:\n",
    "            return 0\n",
    "        output = output * isNegative\n",
    "        return output"
   ]
  },
  {
   "cell_type": "markdown",
   "metadata": {},
   "source": [
    "Another answer which should run in O(n) time and O(1) space.  Creates the ouput value without using an extra array.  Help from user 'ardyadipta' https://leetcode.com/ardyadipta/"
   ]
  },
  {
   "cell_type": "code",
   "execution_count": null,
   "metadata": {
    "collapsed": true
   },
   "outputs": [],
   "source": [
    "class Solution(object):\n",
    "    def reverse(self, x):\n",
    "        \"\"\"\n",
    "        :type x: int\n",
    "        :rtype: int\n",
    "        \"\"\"\n",
    "        # Takes O(n) time and O(1) space\n",
    "        # Base case\n",
    "        if x == 0:\n",
    "            return 0\n",
    "        # Check for negative integer\n",
    "        isNegative = 1 \n",
    "        if x < 0:\n",
    "            isNegative = -1\n",
    "            x = x * -1\n",
    "        # Create output value\n",
    "        output = 0\n",
    "        while x:\n",
    "            output = output*10 + x%10\n",
    "            x = x/10\n",
    "        output = output * isNegative                    \n",
    "        # Check for overflow \n",
    "        if output > 2**31-1:\n",
    "            return 0\n",
    "        elif output < 2**31 * -1:\n",
    "            return 0\n",
    "        else:\n",
    "            return output"
   ]
  },
  {
   "cell_type": "markdown",
   "metadata": {},
   "source": [
    "#### Answer to 9. Palindrome Number: https://leetcode.com/problems/palindrome-number/description/\n",
    "Uses reverse an integer solution from before.  Can be made to run in O(log(10)n) time if only reversing half of the integer."
   ]
  },
  {
   "cell_type": "code",
   "execution_count": null,
   "metadata": {
    "collapsed": true
   },
   "outputs": [],
   "source": [
    "class Solution(object):\n",
    "    def reverse(self, x):\n",
    "        \"\"\"\n",
    "        :type x: int\n",
    "        :rtype: int\n",
    "        \"\"\"\n",
    "        # Takes O(n) time and O(1) space\n",
    "        if x == 0:\n",
    "            return 0\n",
    "        isNegative = 1 \n",
    "        if x < 0:\n",
    "            return 0\n",
    "        output = 0\n",
    "        while x:\n",
    "            output = output*10 + x%10\n",
    "            x = x/10\n",
    "        return output\n",
    "    \n",
    "    def isPalindrome(self, x):\n",
    "        \"\"\"\n",
    "        :type x: int\n",
    "        :rtype: bool\n",
    "        \"\"\"\n",
    "        if self.reverse(x) == x:\n",
    "            return True\n",
    "        else:\n",
    "            return False"
   ]
  },
  {
   "cell_type": "markdown",
   "metadata": {},
   "source": [
    "#### Answer to 14. Longest Common Prefix: https://leetcode.com/problems/longest-common-prefix/description/"
   ]
  },
  {
   "cell_type": "code",
   "execution_count": null,
   "metadata": {
    "collapsed": true
   },
   "outputs": [],
   "source": [
    "class Solution(object):\n",
    "    def longestCommonPrefix(self, strs):\n",
    "        \"\"\"\n",
    "        :type strs: List[str]\n",
    "        :rtype: str\n",
    "        \"\"\"\n",
    "        # Base case, empty array\n",
    "        if not strs:\n",
    "            return ''\n",
    "        longestPrefix = strs.pop()\n",
    "        while strs and longestPrefix:\n",
    "            compareStr = strs.pop()\n",
    "            if len(compareStr) > len(longestPrefix):\n",
    "                compareStr = compareStr[:len(longestPrefix)]\n",
    "            elif len(longestPrefix) > len(compareStr):\n",
    "                longestPrefix = longestPrefix[:len(compareStr)]\n",
    "            for i in range(len(longestPrefix)):\n",
    "                if longestPrefix[i] != compareStr[i]:\n",
    "                    longestPrefix = longestPrefix[:i]\n",
    "                    break\n",
    "        return longestPrefix"
   ]
  },
  {
   "cell_type": "markdown",
   "metadata": {},
   "source": [
    "#### Answer to 26. Remove Duplicates from Sorted Array: https://leetcode.com/problems/remove-duplicates-from-sorted-array/description/"
   ]
  },
  {
   "cell_type": "code",
   "execution_count": null,
   "metadata": {
    "collapsed": true
   },
   "outputs": [],
   "source": [
    "class Solution(object):\n",
    "    def removeDuplicates(self, nums):\n",
    "        \"\"\"\n",
    "        :type nums: List[int]\n",
    "        :rtype: int\n",
    "        \"\"\"\n",
    "        pointer = 1\n",
    "        while pointer < len(nums):\n",
    "            if nums[pointer] == nums[pointer-1]:\n",
    "                del nums[pointer]\n",
    "            else:\n",
    "                pointer += 1\n",
    "        return len(nums)"
   ]
  },
  {
   "cell_type": "markdown",
   "metadata": {},
   "source": [
    "#### Answer to 27. Remove Element: https://leetcode.com/problems/remove-element/description/"
   ]
  },
  {
   "cell_type": "code",
   "execution_count": null,
   "metadata": {
    "collapsed": true
   },
   "outputs": [],
   "source": [
    "class Solution(object):\n",
    "    def removeElement(self, nums, val):\n",
    "        \"\"\"\n",
    "        :type nums: List[int]\n",
    "        :type val: int\n",
    "        :rtype: int\n",
    "        \"\"\"\n",
    "        pointer = 0\n",
    "        while pointer < len(nums):\n",
    "            if nums[pointer] == val:\n",
    "                nums.pop(pointer)\n",
    "            else:\n",
    "                pointer += 1\n",
    "        return pointer"
   ]
  },
  {
   "cell_type": "markdown",
   "metadata": {},
   "source": [
    "#### Answer to 28. Implement strStr(): https://leetcode.com/problems/implement-strstr/description/"
   ]
  },
  {
   "cell_type": "code",
   "execution_count": null,
   "metadata": {
    "collapsed": true
   },
   "outputs": [],
   "source": [
    "class Solution(object):\n",
    "    def strStr(self, haystack, needle):\n",
    "        \"\"\"\n",
    "        :type haystack: str\n",
    "        :type needle: str\n",
    "        :rtype: int\n",
    "        \"\"\"\n",
    "        return haystack.find(needle)"
   ]
  },
  {
   "cell_type": "markdown",
   "metadata": {},
   "source": [
    "#### Answer to 136. Single Number: https://leetcode.com/problems/single-number/description/"
   ]
  },
  {
   "cell_type": "code",
   "execution_count": null,
   "metadata": {
    "collapsed": true
   },
   "outputs": [],
   "source": [
    "class Solution(object):\n",
    "    def singleNumber(self, nums):\n",
    "        \"\"\"\n",
    "        :type nums: List[int]\n",
    "        :rtype: int\n",
    "        \"\"\"\n",
    "        nums.sort()\n",
    "        for i in range(0, len(nums)-1, 2):\n",
    "            if nums[i] != nums[i+1]:\n",
    "                return nums[i]\n",
    "        return nums[len(nums)-1]"
   ]
  },
  {
   "cell_type": "markdown",
   "metadata": {},
   "source": [
    "An O(n) time and O(1) space solution using XOR bit manipulation."
   ]
  },
  {
   "cell_type": "code",
   "execution_count": null,
   "metadata": {
    "collapsed": true
   },
   "outputs": [],
   "source": [
    "class Solution(object):\n",
    "    def singleNumber(self, nums):\n",
    "        \"\"\"\n",
    "        :type nums: List[int]\n",
    "        :rtype: int\n",
    "        \"\"\"\n",
    "        a = 0\n",
    "        for i in nums:\n",
    "            a ^= i\n",
    "        return a"
   ]
  },
  {
   "cell_type": "markdown",
   "metadata": {},
   "source": [
    "#### Answer to 283. Move Zeroes: https://leetcode.com/problems/move-zeroes/description/\n",
    "Solution runs in O(n) time and O(1) space."
   ]
  },
  {
   "cell_type": "code",
   "execution_count": null,
   "metadata": {
    "collapsed": true
   },
   "outputs": [],
   "source": [
    "class Solution(object):\n",
    "    def moveZeroes(self, nums):\n",
    "        \"\"\"\n",
    "        :type nums: List[int]\n",
    "        :rtype: void Do not return anything, modify nums in-place instead.\n",
    "        \"\"\"\n",
    "        pointer = -1\n",
    "        i = 0\n",
    "        while i < len(nums):\n",
    "            if nums[i] == 0:\n",
    "                if pointer < 0:\n",
    "                    pointer = i\n",
    "            elif pointer >= 0:\n",
    "                nums[i], nums[pointer] = 0, nums[i]\n",
    "                pointer += 1\n",
    "            i += 1   "
   ]
  },
  {
   "cell_type": "markdown",
   "metadata": {},
   "source": [
    "#### Answer to 292. Nim Game: https://leetcode.com/problems/nim-game/description/"
   ]
  },
  {
   "cell_type": "code",
   "execution_count": null,
   "metadata": {
    "collapsed": true
   },
   "outputs": [],
   "source": [
    "class Solution(object):\n",
    "    def canWinNim(self, n):\n",
    "        \"\"\"\n",
    "        :type n: int\n",
    "        :rtype: bool\n",
    "        \"\"\"\n",
    "        return n%4 != 0"
   ]
  },
  {
   "cell_type": "markdown",
   "metadata": {},
   "source": [
    "#### Answer to 344. Reverse String: https://leetcode.com/problems/reverse-string/description/"
   ]
  },
  {
   "cell_type": "code",
   "execution_count": null,
   "metadata": {
    "collapsed": true
   },
   "outputs": [],
   "source": [
    "class Solution(object):\n",
    "    def reverseString(self, s):\n",
    "        \"\"\"\n",
    "        :type s: str\n",
    "        :rtype: str\n",
    "        \"\"\"\n",
    "        return s[::-1]"
   ]
  },
  {
   "cell_type": "markdown",
   "metadata": {},
   "source": [
    "#### Answer to 389. Find the Difference: https://leetcode.com/problems/find-the-difference/description/"
   ]
  },
  {
   "cell_type": "code",
   "execution_count": null,
   "metadata": {
    "collapsed": true
   },
   "outputs": [],
   "source": [
    "class Solution(object):\n",
    "    def findTheDifference(self, s, t):\n",
    "        \"\"\"\n",
    "        :type s: str\n",
    "        :type t: str\n",
    "        :rtype: str\n",
    "        \"\"\"\n",
    "        for letter in s:\n",
    "            t = t.replace(letter, '', 1)\n",
    "        return t"
   ]
  },
  {
   "cell_type": "markdown",
   "metadata": {},
   "source": [
    "#### Answer to 448. Find All Numbers Disappeared in an Array: https://leetcode.com/problems/find-all-numbers-disappeared-in-an-array/description/"
   ]
  },
  {
   "cell_type": "code",
   "execution_count": null,
   "metadata": {
    "collapsed": true
   },
   "outputs": [],
   "source": [
    "class Solution(object):\n",
    "    def findDisappearedNumbers(self, nums):\n",
    "        \"\"\"\n",
    "        :type nums: List[int]\n",
    "        :rtype: List[int]\n",
    "        \"\"\"\n",
    "        return list(set(range(1, len(nums)+1)).difference(set(nums)))"
   ]
  },
  {
   "cell_type": "markdown",
   "metadata": {},
   "source": [
    "#### Answer to 485. Max Consecutive Ones: https://leetcode.com/problems/max-consecutive-ones/description/"
   ]
  },
  {
   "cell_type": "code",
   "execution_count": null,
   "metadata": {
    "collapsed": true
   },
   "outputs": [],
   "source": [
    "class Solution(object):\n",
    "    def findMaxConsecutiveOnes(self, nums):\n",
    "        \"\"\"\n",
    "        :type nums: List[int]\n",
    "        :rtype: int\n",
    "        \"\"\"\n",
    "        max_count = count = 0\n",
    "        for i in nums:\n",
    "            if i == 1:\n",
    "                count += 1\n",
    "            else:\n",
    "                max_count = max(max_count, count)\n",
    "                count = 0\n",
    "        return max(max_count, count)"
   ]
  },
  {
   "cell_type": "markdown",
   "metadata": {},
   "source": [
    "#### Answer to 496. Next Greater Element I: https://leetcode.com/problems/next-greater-element-i/description/"
   ]
  },
  {
   "cell_type": "code",
   "execution_count": null,
   "metadata": {
    "collapsed": true
   },
   "outputs": [],
   "source": [
    "class Solution(object):\n",
    "    def nextGreaterElement(self, findNums, nums):\n",
    "        \"\"\"\n",
    "        :type findNums: List[int]\n",
    "        :type nums: List[int]\n",
    "        :rtype: List[int]\n",
    "        \"\"\"\n",
    "        if not (findNums and nums):\n",
    "            return []\n",
    "        if len(nums) == 1:\n",
    "            return [-1]            \n",
    "        bigNums = {}        \n",
    "        bigNums[nums[len(nums)-1]] = -1\n",
    "        numStackMax = nums[len(nums)-1]\n",
    "        numStack = [numStackMax]\n",
    "        for i in range(len(nums)-2, -1, -1):\n",
    "            if nums[i] > numStackMax:\n",
    "                bigNums[nums[i]] = -1\n",
    "                numStackMax = nums[i]\n",
    "            else:\n",
    "                for num in numStack:\n",
    "                    if num > nums[i]:\n",
    "                        bigNums[nums[i]] = num\n",
    "                        break\n",
    "            numStack.insert(0, nums[i])\n",
    "        return [bigNums[j] for j in findNums]"
   ]
  },
  {
   "cell_type": "markdown",
   "metadata": {},
   "source": [
    "#### Answer to 520. Detect Capital: https://leetcode.com/problems/detect-capital/description/"
   ]
  },
  {
   "cell_type": "code",
   "execution_count": null,
   "metadata": {
    "collapsed": true
   },
   "outputs": [],
   "source": [
    "class Solution(object):\n",
    "    def detectCapitalUse(self, word):\n",
    "        \"\"\"\n",
    "        :type word: str\n",
    "        :rtype: bool\n",
    "        \"\"\"\n",
    "        if word.isupper() or word.islower() or (word[0].isupper() and word[1:].islower()):\n",
    "            return True\n",
    "        return False"
   ]
  },
  {
   "cell_type": "markdown",
   "metadata": {},
   "source": [
    "#### Answer to 521. Longest Uncommon Subsequence I: https://leetcode.com/problems/longest-uncommon-subsequence-i/description/"
   ]
  },
  {
   "cell_type": "code",
   "execution_count": null,
   "metadata": {
    "collapsed": true
   },
   "outputs": [],
   "source": [
    "class Solution(object):\n",
    "    def findLUSlength(self, a, b):\n",
    "        \"\"\"\n",
    "        :type a: str\n",
    "        :type b: str\n",
    "        :rtype: int\n",
    "        \"\"\"\n",
    "        if len(a) != len(b):\n",
    "            return max(len(a), len(b))\n",
    "        for i in range(len(a)):\n",
    "            if a[i] != b[i]:\n",
    "                return len(a)\n",
    "        return -1"
   ]
  },
  {
   "cell_type": "markdown",
   "metadata": {},
   "source": [
    "#### Answer to 561. Array Partition I: https://leetcode.com/problems/array-partition-i/description/"
   ]
  },
  {
   "cell_type": "code",
   "execution_count": null,
   "metadata": {
    "collapsed": true
   },
   "outputs": [],
   "source": [
    "class Solution(object):\n",
    "    def arrayPairSum(self, nums):\n",
    "        \"\"\"\n",
    "        :type nums: List[int]\n",
    "        :rtype: int\n",
    "        \"\"\"\n",
    "        nums.sort()\n",
    "        return sum(nums[::2])"
   ]
  },
  {
   "cell_type": "markdown",
   "metadata": {},
   "source": [
    "#### Answer to 557. Reverse Words in a String III: https://leetcode.com/problems/reverse-words-in-a-string-iii/description/"
   ]
  },
  {
   "cell_type": "code",
   "execution_count": null,
   "metadata": {
    "collapsed": true
   },
   "outputs": [],
   "source": [
    "class Solution(object):\n",
    "    def reverseWords(self, s):\n",
    "        \"\"\"\n",
    "        :type s: str\n",
    "        :rtype: str\n",
    "        \"\"\"\n",
    "        return ' '.join([i[::-1] for i in s.split()])"
   ]
  },
  {
   "cell_type": "markdown",
   "metadata": {},
   "source": [
    "#### Answer to 575. Distribute Candies: https://leetcode.com/problems/distribute-candies/description/"
   ]
  },
  {
   "cell_type": "code",
   "execution_count": null,
   "metadata": {
    "collapsed": true
   },
   "outputs": [],
   "source": [
    "class Solution(object):\n",
    "    def distributeCandies(self, candies):\n",
    "        \"\"\"\n",
    "        :type candies: List[int]\n",
    "        :rtype: int\n",
    "        \"\"\"\n",
    "        return min(len(candies)/2, len(set(candies)))"
   ]
  },
  {
   "cell_type": "markdown",
   "metadata": {},
   "source": [
    "#### Answer to 657. Judge Route Circle: https://leetcode.com/problems/judge-route-circle/description/"
   ]
  },
  {
   "cell_type": "code",
   "execution_count": null,
   "metadata": {
    "collapsed": true
   },
   "outputs": [],
   "source": [
    "class Solution(object):\n",
    "    def judgeCircle(self, moves):\n",
    "        \"\"\"\n",
    "        :type moves: str\n",
    "        :rtype: bool\n",
    "        \"\"\"\n",
    "        if moves.count('U') == moves.count('D') and moves.count('L') == moves.count('R'):\n",
    "            return True\n",
    "        return False"
   ]
  },
  {
   "cell_type": "markdown",
   "metadata": {},
   "source": [
    "#### Answer to 682. Baseball Game: https://leetcode.com/problems/baseball-game/description/\n",
    "I present two different solutions.  The first uses another array as a stack to store the scores.  The second changes the string inputs to scores in place, requiring O(1) space.  "
   ]
  },
  {
   "cell_type": "code",
   "execution_count": null,
   "metadata": {
    "collapsed": true
   },
   "outputs": [],
   "source": [
    "class Solution(object):\n",
    "    def calPoints(self, ops):\n",
    "        \"\"\"\n",
    "        :type ops: List[str]\n",
    "        :rtype: int\n",
    "        \"\"\"\n",
    "        scoreStack = []\n",
    "        for operation in ops:\n",
    "            if operation == 'D':\n",
    "                scoreStack.append(scoreStack[-1] * 2)\n",
    "            elif operation == '+':\n",
    "                scoreStack.append(scoreStack[-1] + scoreStack[-2])\n",
    "            elif operation == 'C':\n",
    "                scoreStack.pop(-1)\n",
    "            else:\n",
    "                scoreStack.append(int(operation))\n",
    "        return sum(scoreStack)"
   ]
  },
  {
   "cell_type": "code",
   "execution_count": null,
   "metadata": {
    "collapsed": true
   },
   "outputs": [],
   "source": [
    "class Solution(object):\n",
    "    def calPoints(self, ops):\n",
    "        \"\"\"\n",
    "        :type ops: List[str]\n",
    "        :rtype: int\n",
    "        \"\"\"\n",
    "        i = 0\n",
    "        while i < len(ops):\n",
    "            if ops[i] == 'D':\n",
    "                ops[i] = ops[i-1] * 2\n",
    "            elif ops[i] == '+':\n",
    "                ops[i] = ops[i-1] + ops[i-2]\n",
    "            elif ops[i] == 'C':\n",
    "                i += -1\n",
    "                ops.pop(i)\n",
    "                ops.pop(i)\n",
    "                i += -1\n",
    "            else:\n",
    "                ops[i] = int(ops[i])\n",
    "            i += 1\n",
    "        return sum(ops)"
   ]
  },
  {
   "cell_type": "markdown",
   "metadata": {},
   "source": [
    "#### Answer to 695. Max Area of Island: https://leetcode.com/problems/max-area-of-island/description/"
   ]
  },
  {
   "cell_type": "code",
   "execution_count": null,
   "metadata": {
    "collapsed": true
   },
   "outputs": [],
   "source": [
    "class Solution(object):\n",
    "    def dfs(self, grid, start):\n",
    "        island_size = 0\n",
    "        stack = [start]\n",
    "        while stack:\n",
    "            node = stack.pop(0)\n",
    "            i, j = node[0], node[1]\n",
    "            if grid[i][j] == 1:\n",
    "                grid[i][j] = 'X'\n",
    "                island_size += 1\n",
    "                if i-1 >= 0:\n",
    "                    if grid[i-1][j] == 1:\n",
    "                        stack.append((i-1, j))\n",
    "                if i+1 < len(grid):\n",
    "                    if grid[i+1][j] == 1:\n",
    "                        stack.append((i+1, j))\n",
    "                if j-1 >= 0:\n",
    "                    if grid[i][j-1] == 1:\n",
    "                        stack.append((i, j-1))\n",
    "                if j+1 < len(grid[0]):\n",
    "                    if grid[i][j+1] == 1:\n",
    "                        stack.append((i, j+1))\n",
    "        return island_size\n",
    "            \n",
    "        \n",
    "    \n",
    "    def maxAreaOfIsland(self, grid):\n",
    "        \"\"\"\n",
    "        :type grid: List[List[int]]\n",
    "        :rtype: int\n",
    "        \"\"\"\n",
    "        max_island_size = 0\n",
    "        for i in range(len(grid)):\n",
    "            for j in range(len(grid[i])):\n",
    "                if grid[i][j] == 1:\n",
    "                    max_island_size = max(max_island_size, self.dfs(grid, (i,j)))\n",
    "        return max_island_size"
   ]
  },
  {
   "cell_type": "markdown",
   "metadata": {},
   "source": [
    "#### Answer to 771. Jewels and Stones: https://leetcode.com/problems/jewels-and-stones/description/\n",
    "Answer made faster using set."
   ]
  },
  {
   "cell_type": "code",
   "execution_count": null,
   "metadata": {
    "collapsed": true
   },
   "outputs": [],
   "source": [
    "class Solution(object):\n",
    "    def numJewelsInStones(self, J, S):\n",
    "        \"\"\"\n",
    "        :type J: str\n",
    "        :type S: str\n",
    "        :rtype: int\n",
    "        \"\"\"\n",
    "        jewels = 0\n",
    "        # Base case, empty S\n",
    "        if not S:\n",
    "            return jewels        \n",
    "        for letter in set(J):\n",
    "            jewels += S.count(letter)\n",
    "        return jewels"
   ]
  },
  {
   "cell_type": "markdown",
   "metadata": {},
   "source": [
    "#### Answer to 784. Letter Case Permutation: https://leetcode.com/problems/letter-case-permutation/description/"
   ]
  },
  {
   "cell_type": "code",
   "execution_count": null,
   "metadata": {
    "collapsed": true
   },
   "outputs": [],
   "source": [
    "class Solution(object):\n",
    "    def letterCasePermutation(self, S):\n",
    "        \"\"\"\n",
    "        :type S: str\n",
    "        :rtype: List[str]\n",
    "        \"\"\"\n",
    "        permutations = [S]\n",
    "        for i in range(len(S)):\n",
    "            if S[i].isalpha():\n",
    "                to_add = []\n",
    "                for mutation in permutations:\n",
    "                    to_add.append(mutation[:i]+mutation[i].swapcase()+mutation[i+1:])\n",
    "                permutations.extend(to_add)\n",
    "        return permutations"
   ]
  },
  {
   "cell_type": "markdown",
   "metadata": {},
   "source": [
    "Faster and shorter solution provided by 'lee215' https://leetcode.com/lee215/"
   ]
  },
  {
   "cell_type": "code",
   "execution_count": null,
   "metadata": {
    "collapsed": true
   },
   "outputs": [],
   "source": [
    "class Solution(object):\n",
    "    def letterCasePermutation(self, S):\n",
    "        \"\"\"\n",
    "        :type S: str\n",
    "        :rtype: List[str]\n",
    "        \"\"\"\n",
    "        L = [[i.lower(), i.upper()] if i.isalpha() else i for i in S]\n",
    "        return [''.join(i) for i in itertools.product(*L)]"
   ]
  },
  {
   "cell_type": "code",
   "execution_count": null,
   "metadata": {},
   "outputs": [],
   "source": []
  },
  {
   "cell_type": "code",
   "execution_count": null,
   "metadata": {
    "collapsed": true
   },
   "outputs": [],
   "source": []
  }
 ],
 "metadata": {
  "kernelspec": {
   "display_name": "Python 2",
   "language": "python",
   "name": "python2"
  },
  "language_info": {
   "codemirror_mode": {
    "name": "ipython",
    "version": 2
   },
   "file_extension": ".py",
   "mimetype": "text/x-python",
   "name": "python",
   "nbconvert_exporter": "python",
   "pygments_lexer": "ipython2",
   "version": "2.7.13"
  }
 },
 "nbformat": 4,
 "nbformat_minor": 2
}
