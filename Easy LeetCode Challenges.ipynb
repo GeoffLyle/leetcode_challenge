{
 "cells": [
  {
   "cell_type": "markdown",
   "metadata": {},
   "source": [
    "#### Answers to Easy LeetCode challenges.\n",
    "All answers written by me unless otherwise stated."
   ]
  },
  {
   "cell_type": "markdown",
   "metadata": {},
   "source": [
    "#### Answer to 1. Two Sum: https://leetcode.com/problems/two-sum/description/\n",
    "My unoptimized code.  Completes in O(n^2) time, requires O(1) space."
   ]
  },
  {
   "cell_type": "code",
   "execution_count": 1,
   "metadata": {
    "collapsed": true
   },
   "outputs": [],
   "source": [
    "class Solution(object):\n",
    "    def twoSum(self, nums, target):\n",
    "        \"\"\"\n",
    "        :type nums: List[int]\n",
    "        :type target: int\n",
    "        :rtype: List[int]\n",
    "        \"\"\"\n",
    "        for i in range(len(nums)):\n",
    "            for j in range(i+1, len(nums)):\n",
    "                if nums[i] + nums[j] == target:\n",
    "                    return [i, j]"
   ]
  },
  {
   "cell_type": "markdown",
   "metadata": {},
   "source": [
    "Optimized Code with help from discussion user 'joeg': https://leetcode.com/joeg/\n",
    "<br>\n",
    "Uses hash table to complete algorithm in O(n) time.  Requires O(n) space."
   ]
  },
  {
   "cell_type": "code",
   "execution_count": null,
   "metadata": {
    "collapsed": true
   },
   "outputs": [],
   "source": [
    "class Solution(object):\n",
    "    def twoSum(self, nums, target):\n",
    "        \"\"\"\n",
    "        :type nums: List[int]\n",
    "        :type target: int\n",
    "        :rtype: List[int]\n",
    "        \"\"\"\n",
    "        d = {}\n",
    "        for i, n in enumerate(nums):\n",
    "            m = target - n\n",
    "            if m in d:\n",
    "                return [d[m], i]\n",
    "            else:\n",
    "                d[n] = i"
   ]
  },
  {
   "cell_type": "markdown",
   "metadata": {},
   "source": [
    "#### Answer to 7. Reverse Integer: https://leetcode.com/problems/reverse-integer/description/"
   ]
  },
  {
   "cell_type": "code",
   "execution_count": 8,
   "metadata": {
    "collapsed": true
   },
   "outputs": [],
   "source": [
    "class Solution(object):\n",
    "    def reverse(self, x):\n",
    "        \"\"\"\n",
    "        :type x: int\n",
    "        :rtype: int\n",
    "        \"\"\"\n",
    "        # Takes O(2n) time and O(n) space\n",
    "        if x == 0:\n",
    "            return 0\n",
    "        isNegative = 1 \n",
    "        if x < 0:\n",
    "            isNegative = -1\n",
    "            x = x * -1\n",
    "        intArray = []\n",
    "        while x:\n",
    "            intArray.append(x%10)\n",
    "            x = x/10\n",
    "        \n",
    "        output = 0\n",
    "        while intArray:\n",
    "            output += 10**(len(intArray)-1) * intArray.pop(0)\n",
    "        if output > 2**32-1:\n",
    "            return 0\n",
    "        output = output * isNegative\n",
    "        return output"
   ]
  },
  {
   "cell_type": "markdown",
   "metadata": {},
   "source": [
    "Another answer which should run in O(n) time and O(1) space.  Creates the ouput value without using an extra array.  Help from user 'ardyadipta' https://leetcode.com/ardyadipta/"
   ]
  },
  {
   "cell_type": "code",
   "execution_count": null,
   "metadata": {
    "collapsed": true
   },
   "outputs": [],
   "source": [
    "class Solution(object):\n",
    "    def reverse(self, x):\n",
    "        \"\"\"\n",
    "        :type x: int\n",
    "        :rtype: int\n",
    "        \"\"\"\n",
    "        # Takes O(n) time and O(1) space\n",
    "        # Base case\n",
    "        if x == 0:\n",
    "            return 0\n",
    "        # Check for negative integer\n",
    "        isNegative = 1 \n",
    "        if x < 0:\n",
    "            isNegative = -1\n",
    "            x = x * -1\n",
    "        # Create output value\n",
    "        output = 0\n",
    "        while x:\n",
    "            output = output*10 + x%10\n",
    "            x = x/10\n",
    "        output = output * isNegative                    \n",
    "        # Check for overflow \n",
    "        if output > 2**31-1:\n",
    "            return 0\n",
    "        elif output < 2**31 * -1:\n",
    "            return 0\n",
    "        else:\n",
    "            return output"
   ]
  },
  {
   "cell_type": "markdown",
   "metadata": {},
   "source": [
    "#### Answer to 9. Palindrome Number: https://leetcode.com/problems/palindrome-number/description/\n",
    "Uses reverse an integer solution from before.  Can be made to run in O(log(10)n) time if only reversing half of the integer."
   ]
  },
  {
   "cell_type": "code",
   "execution_count": null,
   "metadata": {
    "collapsed": true
   },
   "outputs": [],
   "source": [
    "class Solution(object):\n",
    "    def reverse(self, x):\n",
    "        \"\"\"\n",
    "        :type x: int\n",
    "        :rtype: int\n",
    "        \"\"\"\n",
    "        # Takes O(n) time and O(1) space\n",
    "        if x == 0:\n",
    "            return 0\n",
    "        isNegative = 1 \n",
    "        if x < 0:\n",
    "            return 0\n",
    "        output = 0\n",
    "        while x:\n",
    "            output = output*10 + x%10\n",
    "            x = x/10\n",
    "        return output\n",
    "    \n",
    "    def isPalindrome(self, x):\n",
    "        \"\"\"\n",
    "        :type x: int\n",
    "        :rtype: bool\n",
    "        \"\"\"\n",
    "        if self.reverse(x) == x:\n",
    "            return True\n",
    "        else:\n",
    "            return False"
   ]
  },
  {
   "cell_type": "markdown",
   "metadata": {},
   "source": [
    "#### Answer to 14. Longest Common Prefix: https://leetcode.com/problems/longest-common-prefix/description/"
   ]
  },
  {
   "cell_type": "code",
   "execution_count": null,
   "metadata": {
    "collapsed": true
   },
   "outputs": [],
   "source": [
    "class Solution(object):\n",
    "    def longestCommonPrefix(self, strs):\n",
    "        \"\"\"\n",
    "        :type strs: List[str]\n",
    "        :rtype: str\n",
    "        \"\"\"\n",
    "        # Base case, empty array\n",
    "        if not strs:\n",
    "            return ''\n",
    "        longestPrefix = strs.pop()\n",
    "        while strs and longestPrefix:\n",
    "            compareStr = strs.pop()\n",
    "            if len(compareStr) > len(longestPrefix):\n",
    "                compareStr = compareStr[:len(longestPrefix)]\n",
    "            elif len(longestPrefix) > len(compareStr):\n",
    "                longestPrefix = longestPrefix[:len(compareStr)]\n",
    "            for i in range(len(longestPrefix)):\n",
    "                if longestPrefix[i] != compareStr[i]:\n",
    "                    longestPrefix = longestPrefix[:i]\n",
    "                    break\n",
    "        return longestPrefix"
   ]
  },
  {
   "cell_type": "markdown",
   "metadata": {},
   "source": [
    "#### Answer to 26. Remove Duplicates from Sorted Array: https://leetcode.com/problems/remove-duplicates-from-sorted-array/description/"
   ]
  },
  {
   "cell_type": "code",
   "execution_count": null,
   "metadata": {
    "collapsed": true
   },
   "outputs": [],
   "source": [
    "class Solution(object):\n",
    "    def removeDuplicates(self, nums):\n",
    "        \"\"\"\n",
    "        :type nums: List[int]\n",
    "        :rtype: int\n",
    "        \"\"\"\n",
    "        pointer = 1\n",
    "        while pointer < len(nums):\n",
    "            if nums[pointer] == nums[pointer-1]:\n",
    "                del nums[pointer]\n",
    "            else:\n",
    "                pointer += 1\n",
    "        return len(nums)"
   ]
  },
  {
   "cell_type": "markdown",
   "metadata": {},
   "source": [
    "#### Answer to 27. Remove Element: https://leetcode.com/problems/remove-element/description/"
   ]
  },
  {
   "cell_type": "code",
   "execution_count": null,
   "metadata": {
    "collapsed": true
   },
   "outputs": [],
   "source": [
    "class Solution(object):\n",
    "    def removeElement(self, nums, val):\n",
    "        \"\"\"\n",
    "        :type nums: List[int]\n",
    "        :type val: int\n",
    "        :rtype: int\n",
    "        \"\"\"\n",
    "        pointer = 0\n",
    "        while pointer < len(nums):\n",
    "            if nums[pointer] == val:\n",
    "                nums.pop(pointer)\n",
    "            else:\n",
    "                pointer += 1\n",
    "        return pointer"
   ]
  },
  {
   "cell_type": "markdown",
   "metadata": {},
   "source": [
    "#### Answer to 28. Implement strStr(): https://leetcode.com/problems/implement-strstr/description/"
   ]
  },
  {
   "cell_type": "code",
   "execution_count": null,
   "metadata": {
    "collapsed": true
   },
   "outputs": [],
   "source": [
    "class Solution(object):\n",
    "    def strStr(self, haystack, needle):\n",
    "        \"\"\"\n",
    "        :type haystack: str\n",
    "        :type needle: str\n",
    "        :rtype: int\n",
    "        \"\"\"\n",
    "        return haystack.find(needle)"
   ]
  },
  {
   "cell_type": "markdown",
   "metadata": {},
   "source": [
    "#### Answer to 344. Reverse String: https://leetcode.com/problems/reverse-string/description/"
   ]
  },
  {
   "cell_type": "code",
   "execution_count": null,
   "metadata": {
    "collapsed": true
   },
   "outputs": [],
   "source": [
    "class Solution(object):\n",
    "    def reverseString(self, s):\n",
    "        \"\"\"\n",
    "        :type s: str\n",
    "        :rtype: str\n",
    "        \"\"\"\n",
    "        return s[::-1]"
   ]
  },
  {
   "cell_type": "markdown",
   "metadata": {},
   "source": [
    "#### Answer to 561. Array Partition I: https://leetcode.com/problems/array-partition-i/description/"
   ]
  },
  {
   "cell_type": "code",
   "execution_count": null,
   "metadata": {
    "collapsed": true
   },
   "outputs": [],
   "source": [
    "class Solution(object):\n",
    "    def arrayPairSum(self, nums):\n",
    "        \"\"\"\n",
    "        :type nums: List[int]\n",
    "        :rtype: int\n",
    "        \"\"\"\n",
    "        nums.sort()\n",
    "        return sum(nums[::2])"
   ]
  },
  {
   "cell_type": "markdown",
   "metadata": {},
   "source": [
    "#### Answer to 557. Reverse Words in a String III: https://leetcode.com/problems/reverse-words-in-a-string-iii/description/"
   ]
  },
  {
   "cell_type": "code",
   "execution_count": null,
   "metadata": {
    "collapsed": true
   },
   "outputs": [],
   "source": [
    "class Solution(object):\n",
    "    def reverseWords(self, s):\n",
    "        \"\"\"\n",
    "        :type s: str\n",
    "        :rtype: str\n",
    "        \"\"\"\n",
    "        return ' '.join([i[::-1] for i in s.split()])"
   ]
  },
  {
   "cell_type": "markdown",
   "metadata": {},
   "source": [
    "#### Answer to 575. Distribute Candies: https://leetcode.com/problems/distribute-candies/description/"
   ]
  },
  {
   "cell_type": "code",
   "execution_count": null,
   "metadata": {
    "collapsed": true
   },
   "outputs": [],
   "source": [
    "class Solution(object):\n",
    "    def distributeCandies(self, candies):\n",
    "        \"\"\"\n",
    "        :type candies: List[int]\n",
    "        :rtype: int\n",
    "        \"\"\"\n",
    "        return min(len(candies)/2, len(set(candies)))"
   ]
  },
  {
   "cell_type": "markdown",
   "metadata": {},
   "source": [
    "#### Answer to 657. Judge Route Circle: https://leetcode.com/problems/judge-route-circle/description/"
   ]
  },
  {
   "cell_type": "code",
   "execution_count": null,
   "metadata": {
    "collapsed": true
   },
   "outputs": [],
   "source": [
    "class Solution(object):\n",
    "    def judgeCircle(self, moves):\n",
    "        \"\"\"\n",
    "        :type moves: str\n",
    "        :rtype: bool\n",
    "        \"\"\"\n",
    "        if moves.count('U') == moves.count('D') and moves.count('L') == moves.count('R'):\n",
    "            return True\n",
    "        return False"
   ]
  },
  {
   "cell_type": "markdown",
   "metadata": {},
   "source": [
    "#### Answer to 682. Baseball Game: https://leetcode.com/problems/baseball-game/description/\n",
    "I present two different solutions.  The first uses another array as a stack to store the scores.  The second changes the string inputs to scores in place, requiring O(1) space.  "
   ]
  },
  {
   "cell_type": "code",
   "execution_count": null,
   "metadata": {
    "collapsed": true
   },
   "outputs": [],
   "source": [
    "class Solution(object):\n",
    "    def calPoints(self, ops):\n",
    "        \"\"\"\n",
    "        :type ops: List[str]\n",
    "        :rtype: int\n",
    "        \"\"\"\n",
    "        scoreStack = []\n",
    "        for operation in ops:\n",
    "            if operation == 'D':\n",
    "                scoreStack.append(scoreStack[-1] * 2)\n",
    "            elif operation == '+':\n",
    "                scoreStack.append(scoreStack[-1] + scoreStack[-2])\n",
    "            elif operation == 'C':\n",
    "                scoreStack.pop(-1)\n",
    "            else:\n",
    "                scoreStack.append(int(operation))\n",
    "        return sum(scoreStack)"
   ]
  },
  {
   "cell_type": "code",
   "execution_count": null,
   "metadata": {
    "collapsed": true
   },
   "outputs": [],
   "source": [
    "class Solution(object):\n",
    "    def calPoints(self, ops):\n",
    "        \"\"\"\n",
    "        :type ops: List[str]\n",
    "        :rtype: int\n",
    "        \"\"\"\n",
    "        i = 0\n",
    "        while i < len(ops):\n",
    "            if ops[i] == 'D':\n",
    "                ops[i] = ops[i-1] * 2\n",
    "            elif ops[i] == '+':\n",
    "                ops[i] = ops[i-1] + ops[i-2]\n",
    "            elif ops[i] == 'C':\n",
    "                i += -1\n",
    "                ops.pop(i)\n",
    "                ops.pop(i)\n",
    "                i += -1\n",
    "            else:\n",
    "                ops[i] = int(ops[i])\n",
    "            i += 1\n",
    "        return sum(ops)"
   ]
  },
  {
   "cell_type": "markdown",
   "metadata": {},
   "source": [
    "#### Answer to 771. Jewels and Stones: https://leetcode.com/problems/jewels-and-stones/description/\n",
    "Answer made faster using set."
   ]
  },
  {
   "cell_type": "code",
   "execution_count": null,
   "metadata": {
    "collapsed": true
   },
   "outputs": [],
   "source": [
    "class Solution(object):\n",
    "    def numJewelsInStones(self, J, S):\n",
    "        \"\"\"\n",
    "        :type J: str\n",
    "        :type S: str\n",
    "        :rtype: int\n",
    "        \"\"\"\n",
    "        jewels = 0\n",
    "        # Base case, empty S\n",
    "        if not S:\n",
    "            return jewels        \n",
    "        for letter in set(J):\n",
    "            jewels += S.count(letter)\n",
    "        return jewels"
   ]
  },
  {
   "cell_type": "code",
   "execution_count": null,
   "metadata": {
    "collapsed": true
   },
   "outputs": [],
   "source": []
  },
  {
   "cell_type": "code",
   "execution_count": null,
   "metadata": {
    "collapsed": true
   },
   "outputs": [],
   "source": []
  }
 ],
 "metadata": {
  "kernelspec": {
   "display_name": "Python 2",
   "language": "python",
   "name": "python2"
  },
  "language_info": {
   "codemirror_mode": {
    "name": "ipython",
    "version": 2
   },
   "file_extension": ".py",
   "mimetype": "text/x-python",
   "name": "python",
   "nbconvert_exporter": "python",
   "pygments_lexer": "ipython2",
   "version": "2.7.13"
  }
 },
 "nbformat": 4,
 "nbformat_minor": 2
}
