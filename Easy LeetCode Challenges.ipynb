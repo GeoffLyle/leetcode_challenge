{
 "cells": [
  {
   "cell_type": "markdown",
   "metadata": {},
   "source": [
    "#### Answers to Easy LeetCode challenges.\n",
    "All answers written by me unless otherwise stated."
   ]
  },
  {
   "cell_type": "markdown",
   "metadata": {},
   "source": [
    "#### Answer to 1. Two Sum: https://leetcode.com/problems/two-sum/description/\n",
    "My unoptimized code.  Completes in O(n^2) time, requires O(1) space."
   ]
  },
  {
   "cell_type": "code",
   "execution_count": 1,
   "metadata": {
    "collapsed": true
   },
   "outputs": [],
   "source": [
    "class Solution(object):\n",
    "    def twoSum(self, nums, target):\n",
    "        \"\"\"\n",
    "        :type nums: List[int]\n",
    "        :type target: int\n",
    "        :rtype: List[int]\n",
    "        \"\"\"\n",
    "        for i in range(len(nums)):\n",
    "            for j in range(i+1, len(nums)):\n",
    "                if nums[i] + nums[j] == target:\n",
    "                    return [i, j]"
   ]
  },
  {
   "cell_type": "markdown",
   "metadata": {},
   "source": [
    "Optimized Code with help from discussion user 'joeg': https://leetcode.com/joeg/\n",
    "<br>\n",
    "Uses hash table to complete algorithm in O(n) time.  Requires O(n) space."
   ]
  },
  {
   "cell_type": "code",
   "execution_count": null,
   "metadata": {
    "collapsed": true
   },
   "outputs": [],
   "source": [
    "class Solution(object):\n",
    "    def twoSum(self, nums, target):\n",
    "        \"\"\"\n",
    "        :type nums: List[int]\n",
    "        :type target: int\n",
    "        :rtype: List[int]\n",
    "        \"\"\"\n",
    "        d = {}\n",
    "        for i, n in enumerate(nums):\n",
    "            m = target - n\n",
    "            if m in d:\n",
    "                return [d[m], i]\n",
    "            else:\n",
    "                d[n] = i"
   ]
  },
  {
   "cell_type": "markdown",
   "metadata": {},
   "source": [
    "#### Answer to 7. Reverse Integer: https://leetcode.com/problems/reverse-integer/description/"
   ]
  },
  {
   "cell_type": "code",
   "execution_count": 8,
   "metadata": {
    "collapsed": true
   },
   "outputs": [],
   "source": [
    "class Solution(object):\n",
    "    def reverse(self, x):\n",
    "        \"\"\"\n",
    "        :type x: int\n",
    "        :rtype: int\n",
    "        \"\"\"\n",
    "        # Takes O(2n) time and O(n) space\n",
    "        if x == 0:\n",
    "            return 0\n",
    "        isNegative = 1 \n",
    "        if x < 0:\n",
    "            isNegative = -1\n",
    "            x = x * -1\n",
    "        intArray = []\n",
    "        while x:\n",
    "            intArray.append(x%10)\n",
    "            x = x/10\n",
    "        \n",
    "        output = 0\n",
    "        while intArray:\n",
    "            output += 10**(len(intArray)-1) * intArray.pop(0)\n",
    "        if output > 2**32-1:\n",
    "            return 0\n",
    "        output = output * isNegative\n",
    "        return output"
   ]
  },
  {
   "cell_type": "markdown",
   "metadata": {},
   "source": [
    "Another answer which should run in O(n) time and O(1) space.  Creates the ouput value without using an extra array.  Help from user 'ardyadipta' https://leetcode.com/ardyadipta/"
   ]
  },
  {
   "cell_type": "code",
   "execution_count": null,
   "metadata": {
    "collapsed": true
   },
   "outputs": [],
   "source": [
    "class Solution(object):\n",
    "    def reverse(self, x):\n",
    "        \"\"\"\n",
    "        :type x: int\n",
    "        :rtype: int\n",
    "        \"\"\"\n",
    "        # Takes O(n) time and O(1) space\n",
    "        # Base case\n",
    "        if x == 0:\n",
    "            return 0\n",
    "        # Check for negative integer\n",
    "        isNegative = 1 \n",
    "        if x < 0:\n",
    "            isNegative = -1\n",
    "            x = x * -1\n",
    "        # Create output value\n",
    "        output = 0\n",
    "        while x:\n",
    "            output = output*10 + x%10\n",
    "            x = x/10\n",
    "        output = output * isNegative                    \n",
    "        # Check for overflow \n",
    "        if output > 2**31-1:\n",
    "            return 0\n",
    "        elif output < 2**31 * -1:\n",
    "            return 0\n",
    "        else:\n",
    "            return output"
   ]
  },
  {
   "cell_type": "markdown",
   "metadata": {},
   "source": [
    "#### Answer to 9. Palindrome Number: https://leetcode.com/problems/palindrome-number/description/\n",
    "Uses reverse an integer solution from before.  Can be made to run in O(log(10)n) time if only reversing half of the integer."
   ]
  },
  {
   "cell_type": "code",
   "execution_count": null,
   "metadata": {
    "collapsed": true
   },
   "outputs": [],
   "source": [
    "class Solution(object):\n",
    "    def reverse(self, x):\n",
    "        \"\"\"\n",
    "        :type x: int\n",
    "        :rtype: int\n",
    "        \"\"\"\n",
    "        # Takes O(n) time and O(1) space\n",
    "        if x == 0:\n",
    "            return 0\n",
    "        isNegative = 1 \n",
    "        if x < 0:\n",
    "            return 0\n",
    "        output = 0\n",
    "        while x:\n",
    "            output = output*10 + x%10\n",
    "            x = x/10\n",
    "        return output\n",
    "    \n",
    "    def isPalindrome(self, x):\n",
    "        \"\"\"\n",
    "        :type x: int\n",
    "        :rtype: bool\n",
    "        \"\"\"\n",
    "        if self.reverse(x) == x:\n",
    "            return True\n",
    "        else:\n",
    "            return False"
   ]
  },
  {
   "cell_type": "markdown",
   "metadata": {},
   "source": [
    "#### Answer to 771. Jewels and Stones: https://leetcode.com/problems/jewels-and-stones/description/"
   ]
  },
  {
   "cell_type": "code",
   "execution_count": null,
   "metadata": {
    "collapsed": true
   },
   "outputs": [],
   "source": [
    "class Solution(object):\n",
    "    def numJewelsInStones(self, J, S):\n",
    "        \"\"\"\n",
    "        :type J: str\n",
    "        :type S: str\n",
    "        :rtype: int\n",
    "        \"\"\"\n",
    "        jewels = 0\n",
    "        # Base case, empty S\n",
    "        if not S:\n",
    "            return jewels        \n",
    "        for letter in J:\n",
    "            jewels += S.count(letter)\n",
    "        return jewels"
   ]
  }
 ],
 "metadata": {
  "kernelspec": {
   "display_name": "Python 2",
   "language": "python",
   "name": "python2"
  },
  "language_info": {
   "codemirror_mode": {
    "name": "ipython",
    "version": 2
   },
   "file_extension": ".py",
   "mimetype": "text/x-python",
   "name": "python",
   "nbconvert_exporter": "python",
   "pygments_lexer": "ipython2",
   "version": "2.7.13"
  }
 },
 "nbformat": 4,
 "nbformat_minor": 2
}
